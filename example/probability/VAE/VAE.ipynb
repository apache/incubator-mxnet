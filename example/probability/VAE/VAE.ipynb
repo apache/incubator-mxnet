{
 "cells": [
  {
   "cell_type": "markdown",
   "metadata": {},
   "source": [
    "# VAE with Gluon.probability \n",
    "\n",
    "In this notebook, we will demonstrate how you can implement a Variational Auto-encoder(VAE) with Gluon.probability and MXNet's latest NumPy API."
   ]
  },
  {
   "cell_type": "code",
   "execution_count": 1,
   "metadata": {},
   "outputs": [],
   "source": [
    "import numpy as np\n",
    "import mxnet as mx\n",
    "from mxnet import autograd, gluon, np, npx\n",
    "from mxnet.gluon import nn\n",
    "import mxnet.gluon.probability as mgp\n",
    "import matplotlib.pyplot as plt\n",
    "\n",
    "npx.set_np()\n",
    "data_ctx = mx.cpu()\n",
    "model_ctx = mx.gpu(0)"
   ]
  },
  {
   "cell_type": "markdown",
   "metadata": {},
   "source": [
    "## Dataset\n",
    "\n",
    "We will use MNIST here for simplicity purpose."
   ]
  },
  {
   "cell_type": "code",
   "execution_count": 2,
   "metadata": {},
   "outputs": [],
   "source": [
    "def load_data(batch_size):\n",
    "    mnist_train = gluon.data.vision.MNIST(train=True)\n",
    "    mnist_test = gluon.data.vision.MNIST(train=False)\n",
    "    num_worker = 4\n",
    "    transformer = gluon.data.vision.transforms.ToTensor()\n",
    "    return (gluon.data.DataLoader(mnist_train.transform_first(transformer),\n",
    "                                batch_size, shuffle=True,\n",
    "                                num_workers=num_worker),\n",
    "          gluon.data.DataLoader(mnist_test.transform_first(transformer),\n",
    "                                batch_size, shuffle=False,\n",
    "                                num_workers=num_worker))\n",
    "                                 "
   ]
  },
  {
   "cell_type": "markdown",
   "metadata": {},
   "source": [
    "## Model definition"
   ]
  },
  {
   "cell_type": "code",
   "execution_count": 4,
   "metadata": {},
   "outputs": [],
   "source": [
    "class VAE(gluon.HybridBlock):\n",
    "    def __init__(self, n_hidden=256, n_latent=2, n_layers=1, n_output=784, act_type='relu', **kwargs):\n",
    "        r\"\"\"\n",
    "        n_hidden : number of hidden units in each layer\n",
    "        n_latent : dimension of the latent space\n",
    "        n_layers : number of layers in the encoder and decoder network\n",
    "        n_output : dimension of the observed data\n",
    "        \"\"\"\n",
    "        self.soft_zero = 1e-10\n",
    "        self.n_latent = n_latent\n",
    "        self.output = None\n",
    "        self.mu = None\n",
    "        super(VAE, self).__init__(**kwargs)\n",
    "        self.encoder = nn.HybridSequential()\n",
    "        for _ in range(n_layers):\n",
    "            self.encoder.add(nn.Dense(n_hidden, activation=act_type))\n",
    "        self.encoder.add(nn.Dense(n_latent*2, activation=None))\n",
    "        self.decoder = nn.HybridSequential()\n",
    "        for _ in range(n_layers):\n",
    "            self.decoder.add(nn.Dense(n_hidden, activation=act_type))\n",
    "        self.decoder.add(nn.Dense(n_output, activation='sigmoid'))\n",
    "        \n",
    "    def encode(self, x):\n",
    "        r\"\"\"\n",
    "        Given a batch of x,\n",
    "        return the encoder's output\n",
    "        \"\"\"\n",
    "        h = self.encoder(x)\n",
    "        loc_scale = np.split(h, 2, 1)\n",
    "        loc = loc_scale[0]\n",
    "        log_variance = loc_scale[1]\n",
    "        scale = np.exp(0.5 * log_variance)\n",
    "        self.loc = loc\n",
    "        return mgp.Normal(loc, scale)\n",
    "    \n",
    "    def decode(self, z):\n",
    "        r\"\"\"\n",
    "        Given a batch of samples from z,\n",
    "        return the decoder's output\n",
    "        \"\"\"\n",
    "        return self.decoder(z)\n",
    "\n",
    "    def forward(self, x):\n",
    "        r\"\"\"\n",
    "        Given a batch of data x,\n",
    "        return the negative of Evidence Lower-bound,\n",
    "        i.e. an objective to minimize.\n",
    "        \"\"\"\n",
    "        # prior p(z)\n",
    "        pz = mgp.Normal(0, 1)\n",
    "        \n",
    "        # posterior q(z|x)\n",
    "        qz_x = self.encode(x) \n",
    "        \n",
    "        # Sampling operation qz_x.sample() is automatically reparameterized.\n",
    "        z = qz_x.sample() \n",
    "\n",
    "        # Reconstruction result\n",
    "        y = self.decode(z) \n",
    "        \n",
    "        # Gluon.probability can help you calculate the analytical kl-divergence\n",
    "        # between two distribution objects.\n",
    "        KL = mgp.kl_divergence(qz_x, pz).sum(1)\n",
    "        \n",
    "        # We assume p(x|z) ~ Bernoulli, therefore we compute the reconstruction\n",
    "        # loss with binary cross entropy.\n",
    "        logloss = np.sum(x * np.log(y + self.soft_zero) + (1 - x)\n",
    "                         * np.log(1 - y + self.soft_zero), axis=1)\n",
    "        loss = -logloss + KL\n",
    "        return loss"
   ]
  },
  {
   "cell_type": "markdown",
   "metadata": {},
   "source": [
    "## Training"
   ]
  },
  {
   "cell_type": "code",
   "execution_count": 7,
   "metadata": {},
   "outputs": [],
   "source": [
    "def train(net, n_epoch, print_period, train_iter, test_iter):\n",
    "    net.initialize(mx.init.Xavier(), ctx=model_ctx)\n",
    "    net.hybridize()\n",
    "    trainer = gluon.Trainer(net.collect_params(), 'adam',\n",
    "                          {'learning_rate': .001})\n",
    "    training_loss = []\n",
    "    validation_loss = []\n",
    "    for epoch in range(n_epoch):\n",
    "        epoch_loss = 0\n",
    "        epoch_val_loss = 0\n",
    "\n",
    "        n_batch_train = 0\n",
    "        for batch in train_iter:\n",
    "            n_batch_train += 1\n",
    "            data = batch[0].as_in_context(model_ctx).reshape(-1, 28 * 28)\n",
    "            with autograd.record():\n",
    "                loss = net(data)\n",
    "            loss.backward()\n",
    "            trainer.step(data.shape[0])\n",
    "            epoch_loss += np.mean(loss)\n",
    "\n",
    "        n_batch_val = 0\n",
    "        for batch in test_iter:\n",
    "            n_batch_val += 1\n",
    "            data = batch[0].as_in_context(model_ctx).reshape(-1, 28 * 28)\n",
    "            loss = net(data)\n",
    "            epoch_val_loss += np.mean(loss)\n",
    "\n",
    "        epoch_loss /= n_batch_train\n",
    "        epoch_val_loss /= n_batch_val\n",
    "\n",
    "        training_loss.append(epoch_loss)\n",
    "        validation_loss.append(epoch_val_loss)\n",
    "\n",
    "        if epoch % max(print_period, 1) == 0:\n",
    "            print('Epoch{}, Training loss {:.2f}, Validation loss {:.2f}'.format(\n",
    "              epoch, float(epoch_loss), float(epoch_val_loss)))"
   ]
  },
  {
   "cell_type": "code",
   "execution_count": 8,
   "metadata": {},
   "outputs": [
    {
     "name": "stdout",
     "output_type": "stream",
     "text": [
      "Epoch0, Training loss 198.47, Validation loss 165.42\n",
      "Epoch5, Training loss 121.50, Validation loss 120.12\n",
      "Epoch10, Training loss 114.81, Validation loss 113.73\n",
      "Epoch15, Training loss 111.33, Validation loss 110.75\n",
      "Epoch20, Training loss 109.57, Validation loss 109.62\n",
      "Epoch25, Training loss 108.31, Validation loss 108.14\n",
      "Epoch30, Training loss 107.21, Validation loss 107.25\n",
      "Epoch35, Training loss 106.17, Validation loss 106.22\n",
      "Epoch40, Training loss 105.49, Validation loss 106.11\n",
      "Epoch45, Training loss 104.90, Validation loss 105.22\n"
     ]
    }
   ],
   "source": [
    "n_hidden = 128\n",
    "n_latent = 40\n",
    "n_layers = 3\n",
    "n_output = 784\n",
    "batch_size = 128\n",
    "model_prefix = 'vae_gluon_{}d{}l{}h.params'.format(\n",
    "  n_latent, n_layers, n_hidden)\n",
    "net = VAE(n_hidden=n_hidden, n_latent=n_latent, n_layers=n_layers,\n",
    "        n_output=n_output)\n",
    "net.hybridize()\n",
    "n_epoch = 50\n",
    "print_period = n_epoch // 10\n",
    "train_set, test_set = load_data(batch_size)\n",
    "train(net, n_epoch, print_period, train_set, test_set)"
   ]
  },
  {
   "cell_type": "markdown",
   "metadata": {},
   "source": [
    "## Reconstruction visualiztion\n",
    "\n",
    "To verify the effictiveness of our model, we first take a look at how well our model can reconstruct the data."
   ]
  },
  {
   "cell_type": "code",
   "execution_count": 9,
   "metadata": {},
   "outputs": [],
   "source": [
    "# Grab a batch from the test set\n",
    "qz_x = None\n",
    "for batch in test_set:\n",
    "    data = batch[0].as_in_context(model_ctx).reshape(-1, 28 * 28)\n",
    "    qz_x = net.encode(data)\n",
    "    break"
   ]
  },
  {
   "cell_type": "code",
   "execution_count": 32,
   "metadata": {},
   "outputs": [
    {
     "data": {
      "image/png": "[encoded data removed]",
      "text/plain": [
       "<Figure size 288x432 with 8 Axes>"
      ]
     },
     "metadata": {},
     "output_type": "display_data"
    }
   ],
   "source": [
    "num_samples = 4\n",
    "fig, axes = plt.subplots(nrows=num_samples, ncols=2, figsize=(4, 6), subplot_kw={'xticks': [], 'yticks': []})\n",
    "axes[0, 0].set_title('Original image')\n",
    "axes[0, 1].set_title('reconstruction')\n",
    "for i in range(num_samples):\n",
    "    axes[i, 0].imshow(data[i].squeeze().reshape(28, 28).asnumpy(), cmap='gray')\n",
    "    axes[i, 1].imshow(net.decode(qz_x.sample())[i].reshape(28, 28).asnumpy(), cmap='gray')"
   ]
  },
  {
   "cell_type": "markdown",
   "metadata": {},
   "source": [
    "## Sample generation\n",
    "\n",
    "One of the most important difference between Variational Auto-encoder and Auto-encoder is VAE's capabilities of generating new samples.\n",
    "\n",
    "To achieve that, one simply needs to feed a random sample from $p(z) \\sim \\mathcal{N}(0,1)$ to the decoder network."
   ]
  },
  {
   "cell_type": "code",
   "execution_count": 34,
   "metadata": {},
   "outputs": [],
   "source": [
    "def plot_samples(samples, h=5, w=10):\n",
    "    fig, axes = plt.subplots(nrows=h,\n",
    "                             ncols=w,\n",
    "                             figsize=(int(1.4 * w), int(1.4 * h)),\n",
    "                             subplot_kw={'xticks': [], 'yticks': []})\n",
    "    for i, ax in enumerate(axes.flatten()):\n",
    "        ax.imshow(samples[i], cmap='gray')"
   ]
  },
  {
   "cell_type": "code",
   "execution_count": 35,
   "metadata": {},
   "outputs": [
    {
     "data": {
      "image/png": "[encoded data removed]",
      "text/plain": [
       "<Figure size 360x360 with 16 Axes>"
      ]
     },
     "metadata": {},
     "output_type": "display_data"
    }
   ],
   "source": [
    "n_samples = 16\n",
    "noise = np.random.randn(n_samples, n_latent).as_in_context(model_ctx)\n",
    "dec_output = net.decode(noise).reshape(-1, 28, 28).asnumpy()\n",
    "plot_samples(dec_output, 4, 4)"
   ]
  }
 ],
 "metadata": {
  "kernelspec": {
   "display_name": "Python 3",
   "language": "python",
   "name": "python3"
  },
  "language_info": {
   "codemirror_mode": {
    "name": "ipython",
    "version": 3
   },
   "file_extension": ".py",
   "mimetype": "text/x-python",
   "name": "python",
   "nbconvert_exporter": "python",
   "pygments_lexer": "ipython3",
   "version": "3.7.3"
  }
 },
 "nbformat": 4,
 "nbformat_minor": 4
}
