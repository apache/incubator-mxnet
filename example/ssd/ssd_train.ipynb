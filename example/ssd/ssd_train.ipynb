{
 "cells": [
  {
   "cell_type": "code",
   "execution_count": 1,
   "metadata": {},
   "outputs": [],
   "source": [
    "import wget\n",
    "import argparse\n",
    "import mxnet as mx\n",
    "import os\n",
    "import sys\n"
   ]
  },
  {
   "cell_type": "code",
   "execution_count": 2,
   "metadata": {},
   "outputs": [],
   "source": [
    "sys.path.append(os.path.join(os.getcwd()))\n",
    "sys.path.append(os.path.join(os.getcwd(),'dataset'))\n",
    "sys.path.append(os.path.join(os.getcwd(),'train'))\n",
    "\n",
    "\n",
    "from train.train_net import train_net\n",
    "\n"
   ]
  },
  {
   "cell_type": "code",
   "execution_count": 3,
   "metadata": {},
   "outputs": [],
   "source": [
    "\n",
    "def default_parser():\n",
    "    parser = argparse.ArgumentParser(description='Train a Single-shot detection network')\n",
    "    parser.add_argument('--dataset', dest='dataset', help='which dataset to use',\n",
    "                        default='pascal', type=str)\n",
    "    parser.add_argument('--image-set', dest='image_set', help='train set, can be trainval or train',\n",
    "                        default='trainval', type=str)\n",
    "    parser.add_argument('--year', dest='year', help='can be 2007, 2012',\n",
    "                        default='2007,2012', type=str)\n",
    "    parser.add_argument('--val-image-set', dest='val_image_set', help='validation set, can be val or test',\n",
    "                        default='test', type=str)\n",
    "    parser.add_argument('--val-year', dest='val_year', help='can be 2007, 2010, 2012',\n",
    "                        default='2007', type=str)\n",
    "    parser.add_argument('--devkit-path', dest='devkit_path', help='VOCdevkit path',\n",
    "                        default=os.path.join(os.getcwd(), 'data', 'VOCdevkit'), type=str)\n",
    "    parser.add_argument('--network', dest='network', type=str, default='vgg16_reduced',\n",
    "                        choices=['vgg16_reduced'], help='which network to use')\n",
    "    parser.add_argument('--batch-size', dest='batch_size', type=int, default=32,\n",
    "                        help='training batch size')\n",
    "    parser.add_argument('--resume', dest='resume', type=int, default=-1,\n",
    "                        help='resume training from epoch n')\n",
    "    parser.add_argument('--finetune', dest='finetune', type=int, default=-1,\n",
    "                        help='finetune from epoch n, rename the model before doing this')\n",
    "    parser.add_argument('--pretrained', dest='pretrained', help='pretrained model prefix',\n",
    "                        default=os.path.join(os.getcwd(), 'model', 'vgg16_reduced'), type=str)\n",
    "    parser.add_argument('--epoch', dest='epoch', help='epoch of pretrained model',\n",
    "                        default=1, type=int)\n",
    "    parser.add_argument('--prefix', dest='prefix', help='new model prefix',\n",
    "                        default=os.path.join(os.getcwd(), 'model', 'ssd'), type=str)\n",
    "    parser.add_argument('--gpus', dest='gpus', help='GPU devices to train with',\n",
    "                        default='0', type=str)\n",
    "    parser.add_argument('--begin-epoch', dest='begin_epoch', help='begin epoch of training',\n",
    "                        default=0, type=int)\n",
    "    parser.add_argument('--end-epoch', dest='end_epoch', help='end epoch of training',\n",
    "                        default=100, type=int)\n",
    "    parser.add_argument('--frequent', dest='frequent', help='frequency of logging',\n",
    "                        default=20, type=int)\n",
    "    parser.add_argument('--data-shape', dest='data_shape', type=int, default=300,\n",
    "                        help='set image shape')\n",
    "    parser.add_argument('--lr', dest='learning_rate', type=float, default=0.001,\n",
    "                        help='learning rate')\n",
    "    parser.add_argument('--momentum', dest='momentum', type=float, default=0.9,\n",
    "                        help='momentum')\n",
    "    parser.add_argument('--wd', dest='weight_decay', type=float, default=0.0001,\n",
    "                        help='weight decay')\n",
    "    parser.add_argument('--mean-r', dest='mean_r', type=float, default=123,\n",
    "                        help='red mean value')\n",
    "    parser.add_argument('--mean-g', dest='mean_g', type=float, default=117,\n",
    "                        help='green mean value')\n",
    "    parser.add_argument('--mean-b', dest='mean_b', type=float, default=104,\n",
    "                        help='blue mean value')\n",
    "    parser.add_argument('--lr-epoch', dest='lr_refactor_epoch', type=int, default=50,\n",
    "                        help='refactor learning rate every N epoch')\n",
    "    parser.add_argument('--lr-ratio', dest='lr_refactor_ratio', type=float, default=0.9,\n",
    "                        help='ratio to refactor learning rate')\n",
    "    parser.add_argument('--log', dest='log_file', type=str, default=\"train.log\",\n",
    "                        help='save training log to file')\n",
    "    parser.add_argument('--monitor', dest='monitor', type=int, default=0,\n",
    "                        help='log network parameters every N iters if larger than 0')\n",
    "    return parser"
   ]
  },
  {
   "cell_type": "code",
   "execution_count": 4,
   "metadata": {},
   "outputs": [],
   "source": [
    "args =default_parser().parse_args(args='')"
   ]
  },
  {
   "cell_type": "code",
   "execution_count": 6,
   "metadata": {},
   "outputs": [
    {
     "name": "stderr",
     "output_type": "stream",
     "text": [
      "INFO:root:Start training with (cpu(0)) from pretrained model /Users/imry/github_code/mxnet/example/ssd/model/vgg16_reduced\n"
     ]
    },
    {
     "ename": "MXNetError",
     "evalue": "[11:25:19] src/io/local_filesys.cc:154: Check failed: allow_null  LocalFileSystem: fail to open \"/Users/imry/github_code/mxnet/example/ssd/model/vgg16_reduced-symbol.json\"\n\nStack trace returned 7 entries:\n[bt] (0) 0   libmxnet.so                         0x0000000109b150f5 _ZN4dmlc15LogMessageFatalD2Ev + 37\n[bt] (1) 1   libmxnet.so                         0x0000000109b148e9 _ZN4dmlc15LogMessageFatalD1Ev + 9\n[bt] (2) 2   libmxnet.so                         0x000000010a39180f _ZN4dmlc2io15LocalFileSystem4OpenERKNS0_3URIEPKcb + 671\n[bt] (3) 3   libmxnet.so                         0x000000010a38c7c4 _ZN4dmlc6Stream6CreateEPKcS2_b + 68\n[bt] (4) 4   libmxnet.so                         0x000000010a0c3eb7 MXSymbolCreateFromFile + 87\n[bt] (5) 5   _ctypes.so                          0x0000000103a68127 ffi_call_unix64 + 79\n[bt] (6) 6   python                              0x00007fff5bffc070 __progname + 140730441904080\n",
     "output_type": "error",
     "traceback": [
      "\u001b[0;31m---------------------------------------------------------------------------\u001b[0m",
      "\u001b[0;31mMXNetError\u001b[0m                                Traceback (most recent call last)",
      "\u001b[0;32m<ipython-input-6-ed37cdd923e8>\u001b[0m in \u001b[0;36m<module>\u001b[0;34m()\u001b[0m\n\u001b[1;32m      9\u001b[0m           \u001b[0margs\u001b[0m\u001b[0;34m.\u001b[0m\u001b[0mfrequent\u001b[0m\u001b[0;34m,\u001b[0m \u001b[0margs\u001b[0m\u001b[0;34m.\u001b[0m\u001b[0mlearning_rate\u001b[0m\u001b[0;34m,\u001b[0m \u001b[0margs\u001b[0m\u001b[0;34m.\u001b[0m\u001b[0mmomentum\u001b[0m\u001b[0;34m,\u001b[0m \u001b[0margs\u001b[0m\u001b[0;34m.\u001b[0m\u001b[0mweight_decay\u001b[0m\u001b[0;34m,\u001b[0m\u001b[0;34m\u001b[0m\u001b[0m\n\u001b[1;32m     10\u001b[0m           \u001b[0margs\u001b[0m\u001b[0;34m.\u001b[0m\u001b[0mval_image_set\u001b[0m\u001b[0;34m,\u001b[0m \u001b[0margs\u001b[0m\u001b[0;34m.\u001b[0m\u001b[0mval_year\u001b[0m\u001b[0;34m,\u001b[0m \u001b[0margs\u001b[0m\u001b[0;34m.\u001b[0m\u001b[0mlr_refactor_epoch\u001b[0m\u001b[0;34m,\u001b[0m\u001b[0;34m\u001b[0m\u001b[0m\n\u001b[0;32m---> 11\u001b[0;31m           args.lr_refactor_ratio, args.monitor, args.log_file)\n\u001b[0m",
      "\u001b[0;32m/Users/imry/github_code/mxnet/example/ssd/train/train_net.py\u001b[0m in \u001b[0;36mtrain_net\u001b[0;34m(net, dataset, image_set, year, devkit_path, batch_size, data_shape, mean_pixels, resume, finetune, pretrained, epoch, prefix, ctx, begin_epoch, end_epoch, frequent, learning_rate, momentum, weight_decay, val_set, val_year, lr_refactor_epoch, lr_refactor_ratio, iter_monitor, log_file)\u001b[0m\n\u001b[1;32m    219\u001b[0m         logger.info(\"Start training with {} from pretrained model {}\"\n\u001b[1;32m    220\u001b[0m             .format(ctx_str, pretrained))\n\u001b[0;32m--> 221\u001b[0;31m         \u001b[0m_\u001b[0m\u001b[0;34m,\u001b[0m \u001b[0margs\u001b[0m\u001b[0;34m,\u001b[0m \u001b[0mauxs\u001b[0m \u001b[0;34m=\u001b[0m \u001b[0mmx\u001b[0m\u001b[0;34m.\u001b[0m\u001b[0mmodel\u001b[0m\u001b[0;34m.\u001b[0m\u001b[0mload_checkpoint\u001b[0m\u001b[0;34m(\u001b[0m\u001b[0mpretrained\u001b[0m\u001b[0;34m,\u001b[0m \u001b[0mepoch\u001b[0m\u001b[0;34m)\u001b[0m\u001b[0;34m\u001b[0m\u001b[0m\n\u001b[0m\u001b[1;32m    222\u001b[0m         \u001b[0margs\u001b[0m \u001b[0;34m=\u001b[0m \u001b[0mconvert_pretrained\u001b[0m\u001b[0;34m(\u001b[0m\u001b[0mpretrained\u001b[0m\u001b[0;34m,\u001b[0m \u001b[0margs\u001b[0m\u001b[0;34m)\u001b[0m\u001b[0;34m\u001b[0m\u001b[0m\n\u001b[1;32m    223\u001b[0m     \u001b[0;32melse\u001b[0m\u001b[0;34m:\u001b[0m\u001b[0;34m\u001b[0m\u001b[0m\n",
      "\u001b[0;32m/Library/anaconda/lib/python3.5/site-packages/mxnet-0.9.4-py3.5-macosx-10.6-x86_64.egg/mxnet/model.py\u001b[0m in \u001b[0;36mload_checkpoint\u001b[0;34m(prefix, epoch)\u001b[0m\n\u001b[1;32m    371\u001b[0m     \u001b[0;34m-\u001b[0m \u001b[0mparameters\u001b[0m \u001b[0mwill\u001b[0m \u001b[0mbe\u001b[0m \u001b[0mloaded\u001b[0m \u001b[0;32mfrom\u001b[0m\u001b[0;31m \u001b[0m\u001b[0;31m`\u001b[0m\u001b[0;31m`\u001b[0m\u001b[0mprefix\u001b[0m\u001b[0;34m-\u001b[0m\u001b[0mepoch\u001b[0m\u001b[0;34m.\u001b[0m\u001b[0mparams\u001b[0m\u001b[0;31m`\u001b[0m\u001b[0;31m`\u001b[0m\u001b[0;34m.\u001b[0m\u001b[0;34m\u001b[0m\u001b[0m\n\u001b[1;32m    372\u001b[0m     \"\"\"\n\u001b[0;32m--> 373\u001b[0;31m     \u001b[0msymbol\u001b[0m \u001b[0;34m=\u001b[0m \u001b[0msym\u001b[0m\u001b[0;34m.\u001b[0m\u001b[0mload\u001b[0m\u001b[0;34m(\u001b[0m\u001b[0;34m'%s-symbol.json'\u001b[0m \u001b[0;34m%\u001b[0m \u001b[0mprefix\u001b[0m\u001b[0;34m)\u001b[0m\u001b[0;34m\u001b[0m\u001b[0m\n\u001b[0m\u001b[1;32m    374\u001b[0m     \u001b[0msave_dict\u001b[0m \u001b[0;34m=\u001b[0m \u001b[0mnd\u001b[0m\u001b[0;34m.\u001b[0m\u001b[0mload\u001b[0m\u001b[0;34m(\u001b[0m\u001b[0;34m'%s-%04d.params'\u001b[0m \u001b[0;34m%\u001b[0m \u001b[0;34m(\u001b[0m\u001b[0mprefix\u001b[0m\u001b[0;34m,\u001b[0m \u001b[0mepoch\u001b[0m\u001b[0;34m)\u001b[0m\u001b[0;34m)\u001b[0m\u001b[0;34m\u001b[0m\u001b[0m\n\u001b[1;32m    375\u001b[0m     \u001b[0marg_params\u001b[0m \u001b[0;34m=\u001b[0m \u001b[0;34m{\u001b[0m\u001b[0;34m}\u001b[0m\u001b[0;34m\u001b[0m\u001b[0m\n",
      "\u001b[0;32m/Library/anaconda/lib/python3.5/site-packages/mxnet-0.9.4-py3.5-macosx-10.6-x86_64.egg/mxnet/symbol.py\u001b[0m in \u001b[0;36mload\u001b[0;34m(fname)\u001b[0m\n\u001b[1;32m   1067\u001b[0m         \u001b[0;32mraise\u001b[0m \u001b[0mTypeError\u001b[0m\u001b[0;34m(\u001b[0m\u001b[0;34m'fname need to be string'\u001b[0m\u001b[0;34m)\u001b[0m\u001b[0;34m\u001b[0m\u001b[0m\n\u001b[1;32m   1068\u001b[0m     \u001b[0mhandle\u001b[0m \u001b[0;34m=\u001b[0m \u001b[0mSymbolHandle\u001b[0m\u001b[0;34m(\u001b[0m\u001b[0;34m)\u001b[0m\u001b[0;34m\u001b[0m\u001b[0m\n\u001b[0;32m-> 1069\u001b[0;31m     \u001b[0mcheck_call\u001b[0m\u001b[0;34m(\u001b[0m\u001b[0m_LIB\u001b[0m\u001b[0;34m.\u001b[0m\u001b[0mMXSymbolCreateFromFile\u001b[0m\u001b[0;34m(\u001b[0m\u001b[0mc_str\u001b[0m\u001b[0;34m(\u001b[0m\u001b[0mfname\u001b[0m\u001b[0;34m)\u001b[0m\u001b[0;34m,\u001b[0m \u001b[0mctypes\u001b[0m\u001b[0;34m.\u001b[0m\u001b[0mbyref\u001b[0m\u001b[0;34m(\u001b[0m\u001b[0mhandle\u001b[0m\u001b[0;34m)\u001b[0m\u001b[0;34m)\u001b[0m\u001b[0;34m)\u001b[0m\u001b[0;34m\u001b[0m\u001b[0m\n\u001b[0m\u001b[1;32m   1070\u001b[0m     \u001b[0;32mreturn\u001b[0m \u001b[0mSymbol\u001b[0m\u001b[0;34m(\u001b[0m\u001b[0mhandle\u001b[0m\u001b[0;34m)\u001b[0m\u001b[0;34m\u001b[0m\u001b[0m\n\u001b[1;32m   1071\u001b[0m \u001b[0;34m\u001b[0m\u001b[0m\n",
      "\u001b[0;32m/Library/anaconda/lib/python3.5/site-packages/mxnet-0.9.4-py3.5-macosx-10.6-x86_64.egg/mxnet/base.py\u001b[0m in \u001b[0;36mcheck_call\u001b[0;34m(ret)\u001b[0m\n\u001b[1;32m     75\u001b[0m     \"\"\"\n\u001b[1;32m     76\u001b[0m     \u001b[0;32mif\u001b[0m \u001b[0mret\u001b[0m \u001b[0;34m!=\u001b[0m \u001b[0;36m0\u001b[0m\u001b[0;34m:\u001b[0m\u001b[0;34m\u001b[0m\u001b[0m\n\u001b[0;32m---> 77\u001b[0;31m         \u001b[0;32mraise\u001b[0m \u001b[0mMXNetError\u001b[0m\u001b[0;34m(\u001b[0m\u001b[0mpy_str\u001b[0m\u001b[0;34m(\u001b[0m\u001b[0m_LIB\u001b[0m\u001b[0;34m.\u001b[0m\u001b[0mMXGetLastError\u001b[0m\u001b[0;34m(\u001b[0m\u001b[0;34m)\u001b[0m\u001b[0;34m)\u001b[0m\u001b[0;34m)\u001b[0m\u001b[0;34m\u001b[0m\u001b[0m\n\u001b[0m\u001b[1;32m     78\u001b[0m \u001b[0;34m\u001b[0m\u001b[0m\n\u001b[1;32m     79\u001b[0m \u001b[0;32mif\u001b[0m \u001b[0msys\u001b[0m\u001b[0;34m.\u001b[0m\u001b[0mversion_info\u001b[0m\u001b[0;34m[\u001b[0m\u001b[0;36m0\u001b[0m\u001b[0;34m]\u001b[0m \u001b[0;34m<\u001b[0m \u001b[0;36m3\u001b[0m\u001b[0;34m:\u001b[0m\u001b[0;34m\u001b[0m\u001b[0m\n",
      "\u001b[0;31mMXNetError\u001b[0m: [11:25:19] src/io/local_filesys.cc:154: Check failed: allow_null  LocalFileSystem: fail to open \"/Users/imry/github_code/mxnet/example/ssd/model/vgg16_reduced-symbol.json\"\n\nStack trace returned 7 entries:\n[bt] (0) 0   libmxnet.so                         0x0000000109b150f5 _ZN4dmlc15LogMessageFatalD2Ev + 37\n[bt] (1) 1   libmxnet.so                         0x0000000109b148e9 _ZN4dmlc15LogMessageFatalD1Ev + 9\n[bt] (2) 2   libmxnet.so                         0x000000010a39180f _ZN4dmlc2io15LocalFileSystem4OpenERKNS0_3URIEPKcb + 671\n[bt] (3) 3   libmxnet.so                         0x000000010a38c7c4 _ZN4dmlc6Stream6CreateEPKcS2_b + 68\n[bt] (4) 4   libmxnet.so                         0x000000010a0c3eb7 MXSymbolCreateFromFile + 87\n[bt] (5) 5   _ctypes.so                          0x0000000103a68127 ffi_call_unix64 + 79\n[bt] (6) 6   python                              0x00007fff5bffc070 __progname + 140730441904080\n"
     ]
    }
   ],
   "source": [
    "ctx = [mx.gpu(int(i)) for i in args.gpus.split(',')]\n",
    "ctx = mx.cpu() if not ctx else ctx\n",
    "ctx = [mx.cpu()]\n",
    "train_net(args.network, args.dataset, args.image_set, args.year,\n",
    "          args.devkit_path, args.batch_size,\n",
    "          args.data_shape, [args.mean_r, args.mean_g, args.mean_b],\n",
    "          args.resume, args.finetune, args.pretrained,\n",
    "          args.epoch, args.prefix, ctx, args.begin_epoch, args.end_epoch,\n",
    "          args.frequent, args.learning_rate, args.momentum, args.weight_decay,\n",
    "          args.val_image_set, args.val_year, args.lr_refactor_epoch,\n",
    "          args.lr_refactor_ratio, args.monitor, args.log_file)"
   ]
  },
  {
   "cell_type": "code",
   "execution_count": null,
   "metadata": {},
   "outputs": [],
   "source": []
  },
  {
   "cell_type": "code",
   "execution_count": null,
   "metadata": {},
   "outputs": [],
   "source": []
  }
 ],
 "metadata": {
  "kernelspec": {
   "display_name": "Python [conda root]",
   "language": "python",
   "name": "conda-root-py"
  },
  "language_info": {
   "codemirror_mode": {
    "name": "ipython",
    "version": 3
   },
   "file_extension": ".py",
   "mimetype": "text/x-python",
   "name": "python",
   "nbconvert_exporter": "python",
   "pygments_lexer": "ipython3",
   "version": "3.5.2"
  }
 },
 "nbformat": 4,
 "nbformat_minor": 2
}
