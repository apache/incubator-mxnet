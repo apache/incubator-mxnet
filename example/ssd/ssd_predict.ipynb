{
 "cells": [
  {
   "cell_type": "code",
   "execution_count": null,
   "metadata": {},
   "outputs": [],
   "source": [
    "import os\n",
    "import sys\n",
    "import mxnet as mx\n",
    "import skimage.io\n",
    "import argparse\n",
    "import importlib"
   ]
  },
  {
   "cell_type": "code",
   "execution_count": null,
   "metadata": {},
   "outputs": [],
   "source": [
    "sys.path.append(os.path.join(os.getcwd(),'dataset'))\n",
    "from detect.detector import Detector"
   ]
  },
  {
   "cell_type": "code",
   "execution_count": null,
   "metadata": {},
   "outputs": [],
   "source": [
    "CLASSES = ('aeroplane', 'bicycle', 'bird', 'boat',\n",
    "           'bottle', 'bus', 'car', 'cat', 'chair',\n",
    "           'cow', 'diningtable', 'dog', 'horse',\n",
    "           'motorbike', 'person', 'pottedplant',\n",
    "           'sheep', 'sofa', 'train', 'tvmonitor')"
   ]
  },
  {
   "cell_type": "code",
   "execution_count": null,
   "metadata": {},
   "outputs": [],
   "source": [
    "def get_detector(net, prefix, epoch, data_shape, mean_pixels, ctx,\n",
    "                 nms_thresh=0.5, force_nms=True):\n",
    "    \"\"\"\n",
    "    wrapper for initialize a detector\n",
    "\n",
    "    Parameters:\n",
    "    ----------\n",
    "    net : str\n",
    "        test network name\n",
    "    prefix : str\n",
    "        load model prefix\n",
    "    epoch : int\n",
    "        load model epoch\n",
    "    data_shape : int\n",
    "        resize image shape\n",
    "    mean_pixels : tuple (float, float, float)\n",
    "        mean pixel values (R, G, B)\n",
    "    ctx : mx.ctx\n",
    "        running context, mx.cpu() or mx.gpu(?)\n",
    "    force_nms : bool\n",
    "        force suppress different categories\n",
    "    \"\"\"\n",
    "    sys.path.append(os.path.join(os.getcwd(), 'symbol'))\n",
    "    net = importlib.import_module(\"symbol_\" + net) \\\n",
    "        .get_symbol(len(CLASSES), nms_thresh, force_nms)\n",
    "    detector = Detector(net, prefix + \"_\" + str(data_shape), epoch, \\\n",
    "        data_shape, mean_pixels, ctx=ctx)\n",
    "    return detector"
   ]
  },
  {
   "cell_type": "code",
   "execution_count": null,
   "metadata": {},
   "outputs": [],
   "source": [
    "def default_args():\n",
    "    parser = argparse.ArgumentParser(description='Single-shot detection network demo')\n",
    "    parser.add_argument('--network', dest='network', type=str, default='vgg16_reduced',\n",
    "                        choices=['vgg16_reduced'], help='which network to use')\n",
    "    parser.add_argument('--images', dest='images', type=str, default='dog,person,000004',\n",
    "                        help='run demo with images, use comma(without space) to seperate multiple images')\n",
    "    parser.add_argument('--dir', dest='dir', nargs='?',default ='./data/demo/',\n",
    "                        help='demo image directory, optional', type=str)\n",
    "    parser.add_argument('--ext', dest='extension', default='.jpg',\n",
    "                        help='image extension, optional',type=str, nargs='?')\n",
    "    parser.add_argument('--epoch', dest='epoch', help='epoch of trained model',\n",
    "                        default=0, type=int)\n",
    "    parser.add_argument('--prefix', dest='prefix', help='trained model prefix',\n",
    "                        default=os.path.join(os.getcwd(), 'model', 'ssd'), type=str)\n",
    "    parser.add_argument('--cpu', dest='cpu', help='(override GPU) use CPU to detect',\n",
    "                        action='store_true', default=False)\n",
    "    parser.add_argument('--gpu', dest='gpus', type=str, default='-1',\n",
    "                        help='GPU device id to detect with')\n",
    "    parser.add_argument('--data-shape', dest='data_shape', type=int, default=300,\n",
    "                        help='set image shape')\n",
    "    parser.add_argument('--mean-r', dest='mean_r', type=float, default=123,\n",
    "                        help='red mean value')\n",
    "    parser.add_argument('--mean-g', dest='mean_g', type=float, default=117,\n",
    "                        help='green mean value')\n",
    "    parser.add_argument('--mean-b', dest='mean_b', type=float, default=104,\n",
    "                        help='blue mean value')\n",
    "    parser.add_argument('--thresh', dest='thresh', type=float, default=0.5,\n",
    "                        help='object visualize score threshold, default 0.6')\n",
    "    parser.add_argument('--nms', dest='nms_thresh', type=float, default=0.5,\n",
    "                        help='non-maximum suppression threshold, default 0.5')\n",
    "    parser.add_argument('--force', dest='force_nms', type=bool, default=True,\n",
    "                        help='force non-maximum suppression on different class')\n",
    "    parser.add_argument('--timer', dest='show_timer', type=bool, default=True,\n",
    "                        help='show detection time')\n",
    "    return parser"
   ]
  },
  {
   "cell_type": "code",
   "execution_count": null,
   "metadata": {},
   "outputs": [],
   "source": [
    "args = default_args().parse_args(args='')\n",
    "if args.gpus=='-1':\n",
    "    ctx = [mx.cpu()]\n",
    "else:\n",
    "    ctx = [mx.gpu(int(i)) for i in args.gpus.split(',')]\n",
    "# parse image list\n",
    "image_list = [i.strip() for i in args.images.split(',')]\n",
    "assert len(image_list) > 0, \"No valid image specified to detect\""
   ]
  },
  {
   "cell_type": "code",
   "execution_count": null,
   "metadata": {},
   "outputs": [],
   "source": [
    "detector = get_detector(args.network, args.prefix, args.epoch,\n",
    "                        args.data_shape,\n",
    "                        (args.mean_r, args.mean_g, args.mean_b),\n",
    "                        ctx, args.nms_thresh, args.force_nms)\n",
    "# run detection\n",
    "detector.detect_and_visualize(image_list, args.dir, args.extension,\n",
    "                               CLASSES, args.thresh, args.show_timer)"
   ]
  }
 ],
 "metadata": {
  "kernelspec": {
   "display_name": "Python [conda root]",
   "language": "python",
   "name": "conda-root-py"
  },
  "language_info": {
   "codemirror_mode": {
    "name": "ipython",
    "version": 3
   },
   "file_extension": ".py",
   "mimetype": "text/x-python",
   "name": "python",
   "nbconvert_exporter": "python",
   "pygments_lexer": "ipython3",
   "version": "3.5.2"
  }
 },
 "nbformat": 4,
 "nbformat_minor": 1
}
