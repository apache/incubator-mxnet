{
 "cells": [
  {
   "cell_type": "code",
   "execution_count": 18,
   "metadata": {},
   "outputs": [],
   "source": [
    "import wget\n",
    "import os\n",
    "import zipfile\n",
    "import tarfile"
   ]
  },
  {
   "cell_type": "markdown",
   "metadata": {},
   "source": [
    "## download pre-trained model"
   ]
  },
  {
   "cell_type": "code",
   "execution_count": 31,
   "metadata": {},
   "outputs": [],
   "source": [
    "models_folder = os.path.join(os.getcwd(),'model')\n",
    "zip_file = 'vgg16_reduced.zip'\n",
    "downloaded_zip_file = os.path.join(models_folder,zip_file)\n",
    "model_file =  os.path.join(models_folder,'vgg16_reduced-0001.params')"
   ]
  },
  {
   "cell_type": "code",
   "execution_count": 33,
   "metadata": {},
   "outputs": [],
   "source": [
    "if os.path.isfile(model_file)==False:\n",
    "    #wget.download('https://github.com/zhreshold/mxnet-ssd/releases/download/v0.2-beta/'+zip_file,models_folder)\n",
    "    with zipfile.ZipFile(downloaded_zip_file,\"r\") as zip_ref:\n",
    "        zip_ref.extractall(models_folder)\n",
    "    os.remove(downloaded_zip_file)"
   ]
  },
  {
   "cell_type": "markdown",
   "metadata": {},
   "source": [
    "## Download VOC data"
   ]
  },
  {
   "cell_type": "code",
   "execution_count": 29,
   "metadata": {},
   "outputs": [
    {
     "name": "stdout",
     "output_type": "stream",
     "text": [
      "/Users/imry/github_code/mxnet/example/ssd/data/VOCtrainval_11-May-2012.tar\n",
      "/Users/imry/github_code/mxnet/example/ssd/data/VOCtrainval_06-Nov-2007.tar\n",
      "/Users/imry/github_code/mxnet/example/ssd/data/VOCtest_06-Nov-2007.tar\n"
     ]
    }
   ],
   "source": [
    "download_folder = os.path.join(os.getcwd(),'data')\n",
    "pascal_folder = os.path.join(download_folder,'VOCdevKit')\n",
    "\n",
    "request_url = 'http://host.robots.ox.ac.uk/pascal/VOC/'\n",
    "tar_files_list = ['VOCtrainval_11-May-2012.tar','VOCtrainval_06-Nov-2007.tar','VOCtest_06-Nov-2007.tar']\n",
    "tar_file_folder_list = ['voc2012/','voc2012/','voc2007/']\n",
    "\n",
    "for tar_folder,tar_file in zip(tar_file_folder_list,tar_files_list):\n",
    "    download_url = request_url+tar_folder+tar_file\n",
    "    downloaded_tar = os.path.join(download_folder,tar_file)\n",
    "    print(downloaded_tar)\n",
    "    if os.path.isfile(downloaded_tar)==False:\n",
    "        wget.download(download_url,download_folder)\n",
    "    tar = tarfile.open(downloaded_tar)\n",
    "    tar.extractall(path=download_folder)\n",
    "    tar.close()\n",
    "    #os.remove(downloaded_tar)\n"
   ]
  },
  {
   "cell_type": "code",
   "execution_count": null,
   "metadata": {},
   "outputs": [],
   "source": [
    "print ('Ready for training')"
   ]
  }
 ],
 "metadata": {
  "kernelspec": {
   "display_name": "Python [conda root]",
   "language": "python",
   "name": "conda-root-py"
  },
  "language_info": {
   "codemirror_mode": {
    "name": "ipython",
    "version": 3
   },
   "file_extension": ".py",
   "mimetype": "text/x-python",
   "name": "python",
   "nbconvert_exporter": "python",
   "pygments_lexer": "ipython3",
   "version": "3.5.2"
  }
 },
 "nbformat": 4,
 "nbformat_minor": 2
}
